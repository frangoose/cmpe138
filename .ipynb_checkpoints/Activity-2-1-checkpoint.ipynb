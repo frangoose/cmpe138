{
 "cells": [
  {
   "cell_type": "markdown",
   "metadata": {},
   "source": [
    "Creating tables in SQL\n",
    "---------------------\n",
    "\n",
    "Before we actually get into basic SQL queries (**asking questions _of_ data in tables**), we'll look at some of the basics about how to **create** tables.\n",
    "\n",
    "**NOTE: Make sure to have a copy of the database file, \"dataset_1.db\", from the last lecture downloaded and in this directory for the below to work!**"
   ]
  },
  {
   "cell_type": "code",
   "execution_count": null,
   "metadata": {
    "collapsed": false
   },
   "outputs": [],
   "source": [
    "%load_ext sql\n",
    "%sql sqlite:///dataset_1.db"
   ]
  },
  {
   "cell_type": "markdown",
   "metadata": {},
   "source": [
    "Activity 2-1:\n",
    "------------\n",
    "\n",
    "Schemas & table creation"
   ]
  },
  {
   "cell_type": "markdown",
   "metadata": {},
   "source": [
    "Recall that the database we just contains a table (among others), called `precipitation_full`, with the following schema:\n",
    "\n",
    "> * `state_code`\n",
    "> * `station_id`\n",
    "> * `year`\n",
    "> * `month`\n",
    "> * `day`\n",
    "> * `hour`\n",
    "> * `precipitation`\n",
    "> * `flag_1`\n",
    "> * `flag_2`\n",
    "\n",
    "Each tuple in this table describes one hour of rainfall (`precipitation`- in hundredths of an inch) at one station (`station_id`) in one state (`state_code`).  Note that tuples with `hour=25` record the total rainfall for that day, and that we can ignore the values of attributes `flag_1` and `flag_2` for now."
   ]
  },
  {
   "cell_type": "markdown",
   "metadata": {},
   "source": [
    "Now, however, let's see how to view the **schema** of existing tables on your own; there are several ways, including but not limited to:\n",
    "* DESCRIBE tablename\n",
    "* SHOW CREATE TABLE tablename\n",
    "* SHOW COLUMNS tablename\n",
    "\n",
    "Unfortunately, support for these varies widely between DBMSs, and is also limited by our IPython interface (for example sqlite, which we are using, does not support the above; it does have a `.schema tablename` command, however this doesn't work in IPython notebooks...)\n",
    "\n",
    "One that does work for us here though is:"
   ]
  },
  {
   "cell_type": "code",
   "execution_count": null,
   "metadata": {
    "collapsed": false
   },
   "outputs": [],
   "source": [
    "%sql PRAGMA table_info(precipitation_full);"
   ]
  },
  {
   "cell_type": "markdown",
   "metadata": {},
   "source": [
    "A bit verbose, but gets the job done!\n",
    "\n",
    "And, we can get the exact statement used to create the table as follows (**a great way to find guidance here!!**):"
   ]
  },
  {
   "cell_type": "code",
   "execution_count": null,
   "metadata": {
    "collapsed": false
   },
   "outputs": [],
   "source": [
    "%sql SELECT sql FROM sqlite_master WHERE name = 'precipitation_full';"
   ]
  },
  {
   "cell_type": "markdown",
   "metadata": {},
   "source": [
    "Without going into full detail (yet), the above table contains one record for each hour at each station, and contains the amount of precipitation that was measured during that hour.\n",
    "\n",
    "Let's create another table that will hold the same information. The name of the new table must not be that of an existing table."
   ]
  },
  {
   "cell_type": "code",
   "execution_count": null,
   "metadata": {
    "collapsed": false
   },
   "outputs": [],
   "source": [
    "%%sql \n",
    "CREATE TABLE precipitation_full_2(\n",
    "    state_code INT, \n",
    "    station_id INT, \n",
    "    year INT, \n",
    "    month INT, \n",
    "    day INT, \n",
    "    hour INT, \n",
    "    precipitation INT, \n",
    "    flag_1 VARCHAR(1), \n",
    "    flag_2 VARCHAR(1)\n",
    ");"
   ]
  },
  {
   "cell_type": "code",
   "execution_count": null,
   "metadata": {
    "collapsed": false
   },
   "outputs": [],
   "source": [
    "%sql PRAGMA table_info(precipitation_full_2);"
   ]
  },
  {
   "cell_type": "code",
   "execution_count": null,
   "metadata": {
    "collapsed": false
   },
   "outputs": [],
   "source": [
    "%sql SELECT sql FROM sqlite_master WHERE name = 'precipitation_full_2';"
   ]
  },
  {
   "cell_type": "markdown",
   "metadata": {},
   "source": [
    "Now, let's remove the duplicate table."
   ]
  },
  {
   "cell_type": "code",
   "execution_count": null,
   "metadata": {
    "collapsed": false
   },
   "outputs": [],
   "source": [
    "%sql DROP table 'precipitation_full_2';"
   ]
  },
  {
   "cell_type": "code",
   "execution_count": null,
   "metadata": {
    "collapsed": false
   },
   "outputs": [],
   "source": [
    "%sql SHOW tables;"
   ]
  },
  {
   "cell_type": "markdown",
   "metadata": {},
   "source": [
    "SQLite does not implement the command \"SHOW tables\". Instead, we can query the table 'sqlite_master'."
   ]
  },
  {
   "cell_type": "code",
   "execution_count": null,
   "metadata": {
    "collapsed": false
   },
   "outputs": [],
   "source": [
    "%sql SELECT * FROM sqlite_master WHERE type='table';"
   ]
  },
  {
   "cell_type": "markdown",
   "metadata": {
    "collapsed": false
   },
   "source": [
    "Now, on to our in-class activity...\n",
    "\n",
    "Suppose that our class was asked to assist in collecting rainfall data!  Based on what\n",
    "we've covered so far, the above example, and the Internet, create a table\n",
    "for storing the staff assignments.  Table requirements:\n",
    "* Everyone in the class will be holding a cup in the rain for \n",
    "a specific several-hour shift at a specific station; this assignment will\n",
    "remain the same every day\n",
    "* Each person will have one off-day per week\n",
    "* Each person's cup might be of a different size, measured as a float value\n",
    "* The Dept. of Interior data servers can't handle the full dataset we would\n",
    "generate, and require a random subsample- so some people will be randomly\n",
    "chosen to stand in the rain without a cup.  These assignments need to be\n",
    "recorded somehow in the table too.\n",
    "* Some people in the class have [Welsh names](https://www.youtube.com/watch?v=fHxO0UdpoxM)\n",
    "\n",
    "Type your create table statement here:\n",
    "\n",
    "*NB:* Remember to start with `%sql` for single line sql or `%%sql`"
   ]
  },
  {
   "cell_type": "code",
   "execution_count": 1,
   "metadata": {
    "collapsed": false
   },
   "outputs": [
    {
     "name": "stderr",
     "output_type": "stream",
     "text": [
      "ERROR:root:Cell magic `%%sql` not found.\n"
     ]
    }
   ],
   "source": [
    "%%sql\n",
    "DROP TABLE IF EXISTS rain_corps_assignments;\n",
    "CREATE TABLE rain_corps_assignments(\n",
    "    sutdent_id INT PRIMARY KEY,\n",
    "    name VARCHAR(1000),\n",
    "    station_id INT,\n",
    "    state_code INT,\n",
    "    start_hour INT,\n",
    "    end_hour INT,\n",
    "    holding_cup BOOLENA,\n",
    "    cup_size FLOAT,\n",
    "    off_day INT\n",
    ");"
   ]
  },
  {
   "cell_type": "code",
   "execution_count": null,
   "metadata": {
    "collapsed": true
   },
   "outputs": [],
   "source": []
  }
 ],
 "metadata": {
  "anaconda-cloud": {},
  "kernelspec": {
   "display_name": "Python 2",
   "language": "python",
   "name": "python2"
  },
  "language_info": {
   "codemirror_mode": {
    "name": "ipython",
    "version": 2
   },
   "file_extension": ".py",
   "mimetype": "text/x-python",
   "name": "python",
   "nbconvert_exporter": "python",
   "pygments_lexer": "ipython2",
   "version": "2.7.13"
  }
 },
 "nbformat": 4,
 "nbformat_minor": 0
}
