{
 "cells": [
  {
   "cell_type": "markdown",
   "metadata": {
    "slideshow": {
     "slide_type": "skip"
    }
   },
   "source": [
    "NOTE:\n",
    "-----\n",
    "\n",
    "Please run the below cells first before proceeding- *you'll* **need** them soon!"
   ]
  },
  {
   "cell_type": "code",
   "execution_count": 1,
   "metadata": {
    "collapsed": false,
    "slideshow": {
     "slide_type": "skip"
    }
   },
   "outputs": [
    {
     "data": {
      "text/plain": [
       "u'Connected: None@dataset_1.db'"
      ]
     },
     "execution_count": 1,
     "metadata": {},
     "output_type": "execute_result"
    }
   ],
   "source": [
    "%load_ext sql\n",
    "%sql sqlite:///dataset_1.db"
   ]
  },
  {
   "cell_type": "markdown",
   "metadata": {},
   "source": [
    "Activity 2-6\n",
    "------------\n",
    "Quantifiers, NULLs, and Outer Joins"
   ]
  },
  {
   "cell_type": "markdown",
   "metadata": {
    "collapsed": true
   },
   "source": [
    "Exercise #1\n",
    "-----------\n",
    "\n",
    "Recall that the tables we just looked at:\n",
    "\n",
    "`bagel`, which describes types of bagels made by the different bagel companies:\n",
    "> * name STRING\n",
    "> * price FLOAT\n",
    "> * made_by STRING\n",
    "\n",
    "And `purchase`:\n",
    "> * bagel_name STRING\n",
    "> * franchise STRING\n",
    "> * date INT\n",
    "> * quantity INT\n",
    "> * purchaser_age INT\n",
    "\n",
    "Where `purchase.bagel_name` references `bagel.name` and `purchase.franchise` references `bagel.made_by`.\n",
    "\n",
    "**Can you find out if there were any purchases of products not on one of the company's official lists (i.e. the `bagel` table), using a single SQL query?**\n",
    "\n",
    "Write your query here:"
   ]
  },
  {
   "cell_type": "code",
   "execution_count": null,
   "metadata": {
    "collapsed": true
   },
   "outputs": [],
   "source": [
    "%%sql\n",
    "SELECT b.name AS \"Official List Name\", p.bagel_name AS \"Purchase Item\", franchise AS \"Bought From\", p.date, p.quantity\n",
    "FROM purchase p\n",
    "LEFT OUTER JOIN bagel b\n",
    "     ON b.name = p.bagel_name AND b.made_by = p.franchise\n",
    "WHERE b.name IS NULL;"
   ]
  },
  {
   "cell_type": "markdown",
   "metadata": {},
   "source": [
    "**^Oh my!^**"
   ]
  },
  {
   "cell_type": "markdown",
   "metadata": {},
   "source": [
    "Practice Review\n",
    "------------\n",
    "Putting it all together"
   ]
  },
  {
   "cell_type": "markdown",
   "metadata": {},
   "source": [
    "In addition to the `purchase` and `bagel` tables defined above, we will also make use of the `store` and `franchise` tables. Instead of me giving you the schemas for those tables, why don't you look them up yourself? Remember that the `sqlite_master` table has the following schema:\n",
    "\n",
    "`sqlite_master`:\n",
    "> * type STRING\n",
    "> * name STRING\n",
    "> * tbl_name STRING\n",
    "> * rootpage INT\n",
    "> * sql STRING\n",
    "\n",
    "Keep in mind that `purchase.franchise` and `store.franchise` both reference `franchise.name`.\n",
    "\n",
    "**Write a query to find out the sql schemas of the `store` and `franchise` tables below. Keep in mind that other database objects (e.g., a view) may have the same name as a table. You may want to also display the table name, to easily differentiate the sql statements.**"
   ]
  },
  {
   "cell_type": "code",
   "execution_count": 2,
   "metadata": {
    "collapsed": false
   },
   "outputs": [
    {
     "name": "stdout",
     "output_type": "stream",
     "text": [
      "Done.\n"
     ]
    },
    {
     "data": {
      "text/html": [
       "<table>\n",
       "    <tr>\n",
       "        <th>name</th>\n",
       "        <th>sql</th>\n",
       "    </tr>\n",
       "    <tr>\n",
       "        <td>states</td>\n",
       "        <td>CREATE TABLE states(code INT, name VARCHAR(30), abbrev VARCHAR(2))</td>\n",
       "    </tr>\n",
       "    <tr>\n",
       "        <td>franchise</td>\n",
       "        <td>CREATE TABLE franchise (name TEXT, db_type TEXT)</td>\n",
       "    </tr>\n",
       "    <tr>\n",
       "        <td>store</td>\n",
       "        <td>CREATE TABLE store (franchise TEXT, location TEXT)</td>\n",
       "    </tr>\n",
       "</table>"
      ],
      "text/plain": [
       "[(u'states', u'CREATE TABLE states(code INT, name VARCHAR(30), abbrev VARCHAR(2))'),\n",
       " (u'franchise', u'CREATE TABLE franchise (name TEXT, db_type TEXT)'),\n",
       " (u'store', u'CREATE TABLE store (franchise TEXT, location TEXT)')]"
      ]
     },
     "execution_count": 2,
     "metadata": {},
     "output_type": "execute_result"
    }
   ],
   "source": [
    "%sql SELECT name,sql FROM sqlite_master WHERE type='table' AND name IN ('store', 'franchise', 'states');"
   ]
  },
  {
   "cell_type": "markdown",
   "metadata": {},
   "source": [
    "Did you use `OR` in the previous query? Try it again with `IN`. If you used `IN`, try it again with `OR`."
   ]
  },
  {
   "cell_type": "code",
   "execution_count": 3,
   "metadata": {
    "collapsed": false
   },
   "outputs": [
    {
     "name": "stdout",
     "output_type": "stream",
     "text": [
      "Done.\n"
     ]
    },
    {
     "data": {
      "text/html": [
       "<table>\n",
       "    <tr>\n",
       "        <th>name</th>\n",
       "        <th>sql</th>\n",
       "    </tr>\n",
       "    <tr>\n",
       "        <td>states</td>\n",
       "        <td>CREATE TABLE states(code INT, name VARCHAR(30), abbrev VARCHAR(2))</td>\n",
       "    </tr>\n",
       "    <tr>\n",
       "        <td>franchise</td>\n",
       "        <td>CREATE TABLE franchise (name TEXT, db_type TEXT)</td>\n",
       "    </tr>\n",
       "    <tr>\n",
       "        <td>store</td>\n",
       "        <td>CREATE TABLE store (franchise TEXT, location TEXT)</td>\n",
       "    </tr>\n",
       "</table>"
      ],
      "text/plain": [
       "[(u'states', u'CREATE TABLE states(code INT, name VARCHAR(30), abbrev VARCHAR(2))'),\n",
       " (u'franchise', u'CREATE TABLE franchise (name TEXT, db_type TEXT)'),\n",
       " (u'store', u'CREATE TABLE store (franchise TEXT, location TEXT)')]"
      ]
     },
     "execution_count": 3,
     "metadata": {},
     "output_type": "execute_result"
    }
   ],
   "source": [
    "%sql SELECT name,sql FROM sqlite_master WHERE type='table' AND (name = 'store' OR name = 'franchise' OR name = 'states');"
   ]
  },
  {
   "cell_type": "markdown",
   "metadata": {},
   "source": [
    "Let's now create another table that will map franchise locations to states via their 2-letter abbreviations (e.g., CA for California). The schema should be:\n",
    "\n",
    "`location`:\n",
    "> * name STRING\n",
    "> * state STRING\n",
    "\n",
    "Limit `state` to two characters and set `name` as key. After you create the table, insert the following tuples:\n",
    "\n",
    "> * (NYC, NY)\n",
    "> * (PA, PA)\n",
    "> * (Chicago, IL)\n",
    "\n",
    "**Write your queries below. Then, query all rows from the `location` table.**"
   ]
  },
  {
   "cell_type": "code",
   "execution_count": 4,
   "metadata": {
    "collapsed": false
   },
   "outputs": [
    {
     "name": "stdout",
     "output_type": "stream",
     "text": [
      "Done.\n"
     ]
    },
    {
     "data": {
      "text/plain": [
       "[]"
      ]
     },
     "execution_count": 4,
     "metadata": {},
     "output_type": "execute_result"
    }
   ],
   "source": [
    "%sql DROP table IF EXISTS `location`;\n"
   ]
  },
  {
   "cell_type": "code",
   "execution_count": 5,
   "metadata": {
    "collapsed": false
   },
   "outputs": [
    {
     "name": "stdout",
     "output_type": "stream",
     "text": [
      "Done.\n",
      "1 rows affected.\n",
      "1 rows affected.\n",
      "1 rows affected.\n",
      "Done.\n"
     ]
    },
    {
     "data": {
      "text/html": [
       "<table>\n",
       "    <tr>\n",
       "        <th>name</th>\n",
       "        <th>state</th>\n",
       "    </tr>\n",
       "    <tr>\n",
       "        <td>NYC</td>\n",
       "        <td>NY</td>\n",
       "    </tr>\n",
       "    <tr>\n",
       "        <td>PA</td>\n",
       "        <td>PA</td>\n",
       "    </tr>\n",
       "    <tr>\n",
       "        <td>Chicago</td>\n",
       "        <td>IL</td>\n",
       "    </tr>\n",
       "</table>"
      ],
      "text/plain": [
       "[(u'NYC', u'NY'), (u'PA', u'PA'), (u'Chicago', u'IL')]"
      ]
     },
     "execution_count": 5,
     "metadata": {},
     "output_type": "execute_result"
    }
   ],
   "source": [
    "\"\"\"\n",
    "Expected output below\n",
    "\n",
    "Don't re-execute this cell!\n",
    "\"\"\"\n",
    "%sql CREATE table `location` (`name` VARCHAR(100) PRIMARY KEY, `state` VARCHAR(2));\n",
    "%sql INSERT INTO `location` VALUES ('NYC', 'NY');\n",
    "%sql INSERT INTO `location` VALUES ('PA', 'PA');\n",
    "%sql INSERT INTO `location` VALUES ('Chicago', 'IL');\n",
    "%sql SELECT * FROM `location`;"
   ]
  },
  {
   "cell_type": "markdown",
   "metadata": {},
   "source": [
    "Find all the states that have `a` as the second letter in their names. Print out the name and abbreviation for those states."
   ]
  },
  {
   "cell_type": "code",
   "execution_count": null,
   "metadata": {
    "collapsed": true
   },
   "outputs": [],
   "source": []
  },
  {
   "cell_type": "code",
   "execution_count": 6,
   "metadata": {
    "collapsed": false
   },
   "outputs": [
    {
     "name": "stdout",
     "output_type": "stream",
     "text": [
      "Done.\n"
     ]
    },
    {
     "data": {
      "text/html": [
       "<table>\n",
       "    <tr>\n",
       "        <th>name</th>\n",
       "        <th>abbrev</th>\n",
       "    </tr>\n",
       "    <tr>\n",
       "        <td>California</td>\n",
       "        <td>CA</td>\n",
       "    </tr>\n",
       "    <tr>\n",
       "        <td>Kansas</td>\n",
       "        <td>KS</td>\n",
       "    </tr>\n",
       "    <tr>\n",
       "        <td>Maine</td>\n",
       "        <td>ME</td>\n",
       "    </tr>\n",
       "    <tr>\n",
       "        <td>Maryland</td>\n",
       "        <td>MD</td>\n",
       "    </tr>\n",
       "    <tr>\n",
       "        <td>Massachusetts</td>\n",
       "        <td>MA</td>\n",
       "    </tr>\n",
       "    <tr>\n",
       "        <td>Washington</td>\n",
       "        <td>WA</td>\n",
       "    </tr>\n",
       "    <tr>\n",
       "        <td>Hawaii</td>\n",
       "        <td>HI</td>\n",
       "    </tr>\n",
       "    <tr>\n",
       "        <td>Pacific Islands</td>\n",
       "        <td>PI</td>\n",
       "    </tr>\n",
       "</table>"
      ],
      "text/plain": [
       "[(u'California', u'CA'),\n",
       " (u'Kansas', u'KS'),\n",
       " (u'Maine', u'ME'),\n",
       " (u'Maryland', u'MD'),\n",
       " (u'Massachusetts', u'MA'),\n",
       " (u'Washington', u'WA'),\n",
       " (u'Hawaii', u'HI'),\n",
       " (u'Pacific Islands', u'PI')]"
      ]
     },
     "execution_count": 6,
     "metadata": {},
     "output_type": "execute_result"
    }
   ],
   "source": [
    "\"\"\"\n",
    "Expected output below\n",
    "\n",
    "Don't re-execute this cell!\n",
    "\"\"\"\n",
    "%sql select name,abbrev from states where name LIKE '_a%'"
   ]
  },
  {
   "cell_type": "markdown",
   "metadata": {},
   "source": [
    "Count the number of states and teritories in the United States (not including the capital). *Hint: you may want to check the quality of the data.*\n",
    "\n",
    "Adjust your query to get the right number of states+teritories."
   ]
  },
  {
   "cell_type": "code",
   "execution_count": null,
   "metadata": {
    "collapsed": true
   },
   "outputs": [],
   "source": []
  },
  {
   "cell_type": "code",
   "execution_count": 7,
   "metadata": {
    "collapsed": false
   },
   "outputs": [
    {
     "name": "stdout",
     "output_type": "stream",
     "text": [
      "Done.\n"
     ]
    },
    {
     "data": {
      "text/html": [
       "<table>\n",
       "    <tr>\n",
       "        <th>count</th>\n",
       "    </tr>\n",
       "    <tr>\n",
       "        <td>53</td>\n",
       "    </tr>\n",
       "</table>"
      ],
      "text/plain": [
       "[(53,)]"
      ]
     },
     "execution_count": 7,
     "metadata": {},
     "output_type": "execute_result"
    }
   ],
   "source": [
    "\"\"\"\n",
    "Expected output below\n",
    "\n",
    "Don't re-execute this cell!\n",
    "\"\"\"\n",
    "%sql select COUNT(*) as 'count' from states where length(abbrev) = 2 AND abbrev <> 'DC';"
   ]
  },
  {
   "cell_type": "markdown",
   "metadata": {},
   "source": [
    "Write an `INTERSECT` query to find the set of states that have stores in them. Output the full state names."
   ]
  },
  {
   "cell_type": "code",
   "execution_count": 8,
   "metadata": {
    "collapsed": false
   },
   "outputs": [
    {
     "name": "stdout",
     "output_type": "stream",
     "text": [
      "Done.\n"
     ]
    },
    {
     "data": {
      "text/html": [
       "<table>\n",
       "    <tr>\n",
       "        <th>name</th>\n",
       "    </tr>\n",
       "    <tr>\n",
       "        <td>New York</td>\n",
       "    </tr>\n",
       "    <tr>\n",
       "        <td>Pennsylvania</td>\n",
       "    </tr>\n",
       "    <tr>\n",
       "        <td>Illinois</td>\n",
       "    </tr>\n",
       "</table>"
      ],
      "text/plain": [
       "[(u'New York',), (u'Pennsylvania',), (u'Illinois',)]"
      ]
     },
     "execution_count": 8,
     "metadata": {},
     "output_type": "execute_result"
    }
   ],
   "source": [
    "\"\"\"\n",
    "Expected output below\n",
    "\n",
    "Don't re-execute this cell!\n",
    "\"\"\"\n",
    "%sql select distinct states.name from states,location,store WHERE location.state = states.abbrev AND store.location = location.name;"
   ]
  },
  {
   "cell_type": "markdown",
   "metadata": {},
   "source": [
    "Write a query that will output the `name` of the state and the number of stores in that state (`num_stores`) for all states that have at least two stores."
   ]
  },
  {
   "cell_type": "code",
   "execution_count": 9,
   "metadata": {
    "collapsed": false
   },
   "outputs": [
    {
     "name": "stdout",
     "output_type": "stream",
     "text": [
      "Done.\n"
     ]
    },
    {
     "data": {
      "text/html": [
       "<table>\n",
       "    <tr>\n",
       "        <th>name</th>\n",
       "        <th>num_stores</th>\n",
       "    </tr>\n",
       "    <tr>\n",
       "        <td>New York</td>\n",
       "        <td>2</td>\n",
       "    </tr>\n",
       "    <tr>\n",
       "        <td>Pennsylvania</td>\n",
       "        <td>2</td>\n",
       "    </tr>\n",
       "</table>"
      ],
      "text/plain": [
       "[(u'New York', 2), (u'Pennsylvania', 2)]"
      ]
     },
     "execution_count": 9,
     "metadata": {},
     "output_type": "execute_result"
    }
   ],
   "source": [
    "\"\"\"\n",
    "Expected output below\n",
    "\n",
    "Don't re-execute this cell!\n",
    "\"\"\"\n",
    "%sql select name, count(name) as `num_stores` from ( select states.name from states,location,store WHERE location.state = states.abbrev AND store.location = location.name ) group by name having count(name) >= 2;"
   ]
  },
  {
   "cell_type": "markdown",
   "metadata": {},
   "source": [
    "What are the names of the franchises that have  less than 4 stores? Use JOIN...ON in the query."
   ]
  },
  {
   "cell_type": "code",
   "execution_count": 10,
   "metadata": {
    "collapsed": false
   },
   "outputs": [
    {
     "name": "stdout",
     "output_type": "stream",
     "text": [
      "Done.\n"
     ]
    },
    {
     "data": {
      "text/html": [
       "<table>\n",
       "    <tr>\n",
       "        <th>name</th>\n",
       "    </tr>\n",
       "    <tr>\n",
       "        <td>BAGEL CORP</td>\n",
       "    </tr>\n",
       "    <tr>\n",
       "        <td>Bobs Bagels</td>\n",
       "    </tr>\n",
       "    <tr>\n",
       "        <td>eBagel</td>\n",
       "    </tr>\n",
       "</table>"
      ],
      "text/plain": [
       "[(u'BAGEL CORP',), (u'Bobs Bagels',), (u'eBagel',)]"
      ]
     },
     "execution_count": 10,
     "metadata": {},
     "output_type": "execute_result"
    }
   ],
   "source": [
    "\"\"\"\n",
    "Expected output below\n",
    "\n",
    "Don't re-execute this cell!\n",
    "\"\"\"\n",
    "%sql select f.name from franchise f join store s on f.name = s.franchise group by f.name having count(s.location) < 4;"
   ]
  },
  {
   "cell_type": "markdown",
   "metadata": {},
   "source": [
    "What is the total revenue (`quantity` * `price`) derived from selling bagels to young adults (ages 18-35 years) in the states of `New York` or `Pennsylvania`?"
   ]
  },
  {
   "cell_type": "code",
   "execution_count": 11,
   "metadata": {
    "collapsed": false
   },
   "outputs": [
    {
     "name": "stdout",
     "output_type": "stream",
     "text": [
      "Done.\n"
     ]
    },
    {
     "data": {
      "text/html": [
       "<table>\n",
       "    <tr>\n",
       "        <th>revenue</th>\n",
       "    </tr>\n",
       "    <tr>\n",
       "        <td>47.64</td>\n",
       "    </tr>\n",
       "</table>"
      ],
      "text/plain": [
       "[(47.64,)]"
      ]
     },
     "execution_count": 11,
     "metadata": {},
     "output_type": "execute_result"
    }
   ],
   "source": [
    "\"\"\"\n",
    "Expected output below\n",
    "\n",
    "Don't re-execute this cell!\n",
    "\"\"\"\n",
    "%sql select SUM(revenue) as revenue from (select p.quantity * b.price as revenue from purchase p, bagel b, store s, location l, states t where p.franchise = s.franchise and p.bagel_name = b.name and p.franchise = b.made_by and s.location = l.name and l.state = t.abbrev and p.purchaser_age >= 18 and p.purchaser_age <= 35 and t.name IN('New York', 'Pennsylvania') ) ;"
   ]
  },
  {
   "cell_type": "code",
   "execution_count": null,
   "metadata": {
    "collapsed": true
   },
   "outputs": [],
   "source": []
  }
 ],
 "metadata": {
  "anaconda-cloud": {},
  "kernelspec": {
   "display_name": "Python 2",
   "language": "python",
   "name": "python2"
  },
  "language_info": {
   "codemirror_mode": {
    "name": "ipython",
    "version": 2
   },
   "file_extension": ".py",
   "mimetype": "text/x-python",
   "name": "python",
   "nbconvert_exporter": "python",
   "pygments_lexer": "ipython2",
   "version": "2.7.13"
  }
 },
 "nbformat": 4,
 "nbformat_minor": 0
}
