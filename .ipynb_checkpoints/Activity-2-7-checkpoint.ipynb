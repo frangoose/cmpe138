{
 "cells": [
  {
   "cell_type": "code",
   "execution_count": 1,
   "metadata": {
    "collapsed": false
   },
   "outputs": [
    {
     "data": {
      "text/plain": [
       "'Connected: None@None'"
      ]
     },
     "execution_count": 1,
     "metadata": {},
     "output_type": "execute_result"
    }
   ],
   "source": [
    "%load_ext sql\n",
    "%sql sqlite://"
   ]
  },
  {
   "cell_type": "markdown",
   "metadata": {
    "collapsed": true
   },
   "source": [
    "Football Season\n",
    "===============\n",
    "\n",
    "We will translate the Football season ER diagram we constructed in class into a database instance. In general, we traslate each entity set and relationship into tables. The entity sets have primary keys that are noted in the ER diagram. Relationships inherit the primary keys of the entity sets they connect. Their primary key is the composition of primary keys from the connecting entity sets, each of which is also a foreign key in the relationship table.\n",
    "\n",
    "### Strong entity sets\n",
    "First, translate strong entity sets to tables:\n",
    "> * Create a table for the entity set.\n",
    "> * Make each attribute of the entity set a field of the table, giving it an appropriate type.\n",
    "> * Set the primary key the same as the set of key attributes in the entity set."
   ]
  },
  {
   "cell_type": "code",
   "execution_count": 2,
   "metadata": {
    "collapsed": false
   },
   "outputs": [
    {
     "name": "stdout",
     "output_type": "stream",
     "text": [
      "Done.\n",
      "Done.\n",
      "Done.\n",
      "Done.\n",
      "Done.\n",
      "Done.\n",
      "Done.\n",
      "Done.\n",
      "Done.\n",
      "Done.\n"
     ]
    },
    {
     "data": {
      "text/plain": [
       "[]"
      ]
     },
     "execution_count": 2,
     "metadata": {},
     "output_type": "execute_result"
    }
   ],
   "source": [
    "# Games table\n",
    "%sql DROP TABLE IF EXISTS Games;\n",
    "%sql CREATE TABLE Games ( date DATE, location VARCHAR(40), PRIMARY KEY (date, location) );\n",
    "# Cities table\n",
    "%sql DROP TABLE IF EXISTS Cities;\n",
    "%sql CREATE TABLE Cities ( name VARCHAR(40) PRIMARY KEY );\n",
    "# Position table\n",
    "%sql DROP TABLE IF EXISTS Position;\n",
    "%sql CREATE TABLE Position ( ptype VARCHAR(20) PRIMARY KEY );\n",
    "# Players table\n",
    "%sql DROP TABLE IF EXISTS Players;\n",
    "%sql CREATE TABLE Players ( player_id UNSIGNED INT PRIMARY KEY, name VARCHAR(50) );\n",
    "# Plays table\n",
    "%sql DROP TABLE IF EXISTS Plays;\n",
    "%sql CREATE TABLE Plays ( play_id UNSIGNED INT PRIMARY KEY, yardage_diff INT, touchdown BOOL );"
   ]
  },
  {
   "cell_type": "markdown",
   "metadata": {},
   "source": [
    "### Weak entity sets\n",
    "Weak entity sets use the primary key of the owning relation as part of their primary key. Note that the relationship connecting the weak entity set to its owning entity set is superfluous and will not be traslated into a table. Follow this procedure to translate weak entity sets into tables:\n",
    "> * Create a table for the weak entity set.\n",
    "> * Make each attribute of the weak entity set a field of the table.\n",
    "> * Add fields for the primary key attributes of the owning entity set.\n",
    "> * Declare a foreign key constraint on these identifying owner fields.\n",
    "> * Optionally, set a constraint to automatically delete any tuples in the table for which there are no owners.\n"
   ]
  },
  {
   "cell_type": "code",
   "execution_count": 3,
   "metadata": {
    "collapsed": false
   },
   "outputs": [
    {
     "name": "stdout",
     "output_type": "stream",
     "text": [
      "Done.\n",
      "Done.\n",
      "Done.\n",
      "Done.\n"
     ]
    },
    {
     "data": {
      "text/plain": [
       "[]"
      ]
     },
     "execution_count": 3,
     "metadata": {},
     "output_type": "execute_result"
    }
   ],
   "source": [
    "%%sql \n",
    "/* Teams table */\n",
    "DROP TABLE IF EXISTS Teams;\n",
    "CREATE TABLE Teams ( \n",
    "    city_name VARCHAR(40), \n",
    "    team_name VARCHAR(50), \n",
    "    PRIMARY KEY (city_name, team_name), \n",
    "    FOREIGN KEY (city_name) REFERENCES Cities\n",
    "        ON DELETE CASCADE\n",
    ");\n",
    "\n",
    "/* Weight table */\n",
    "DROP TABLE IF EXISTS Weight;\n",
    "CREATE TABLE Weight ( \n",
    "    player_id UNSIGNED INTEGER, \n",
    "    time_period INTEGER,\n",
    "    weight FLOAT,\n",
    "    PRIMARY KEY (player_id, time_period), \n",
    "    FOREIGN KEY (player_id) REFERENCES Players\n",
    "        ON DELETE CASCADE\n",
    ");\n"
   ]
  },
  {
   "cell_type": "markdown",
   "metadata": {},
   "source": [
    "### Subclasses\n",
    "Subclasses also receive their own tables:\n",
    "> * For each subclass, declare a table using superclass’s primary key and the subclass’s extra attributes.\n",
    "> * Declare the primary key from the superclass as the primary key of the subclass\n",
    "> * Add a foreign key constraint to the primary key of the superclass.\n",
    "> * Optionally, set a constraint to automatically delete any tuples in the table for which there are no superclass records."
   ]
  },
  {
   "cell_type": "code",
   "execution_count": 4,
   "metadata": {
    "collapsed": false
   },
   "outputs": [
    {
     "name": "stdout",
     "output_type": "stream",
     "text": [
      "Done.\n",
      "Done.\n",
      "Done.\n",
      "Done.\n"
     ]
    },
    {
     "data": {
      "text/plain": [
       "[]"
      ]
     },
     "execution_count": 4,
     "metadata": {},
     "output_type": "execute_result"
    }
   ],
   "source": [
    "%%sql\n",
    "/* OffensePosition */\n",
    "DROP TABLE IF EXISTS OffensePosition;\n",
    "CREATE TABLE OffensePosition ( \n",
    "    ptype VARCHAR(20) PRIMARY KEY,\n",
    "    offensive_postion_type CHAR(2),\n",
    "    FOREIGN KEY (ptype) REFERENCES Position\n",
    "        ON DELETE CASCADE\n",
    ");\n",
    "\n",
    "\n",
    "/* DefensePosition */\n",
    "DROP TABLE IF EXISTS DefensePosition;\n",
    "CREATE TABLE DefensePosition ( \n",
    "    ptype VARCHAR(20) PRIMARY KEY,\n",
    "    defensive_postion_type CHAR(2),\n",
    "    FOREIGN KEY (ptype) REFERENCES Position\n",
    "        ON DELETE CASCADE\n",
    ");"
   ]
  },
  {
   "cell_type": "markdown",
   "metadata": {},
   "source": [
    "In the case that a `Position` could be both an `OffensePosition` and a `DefensePosition` at the same time (makes so sense in Football, though...), we could create a third table to capture the intersection of these subclasses. What would be the alternative for capturing these intersection entities without creating this third table?"
   ]
  },
  {
   "cell_type": "code",
   "execution_count": 5,
   "metadata": {
    "collapsed": false
   },
   "outputs": [
    {
     "name": "stdout",
     "output_type": "stream",
     "text": [
      "Done.\n",
      "Done.\n"
     ]
    },
    {
     "data": {
      "text/plain": [
       "[]"
      ]
     },
     "execution_count": 5,
     "metadata": {},
     "output_type": "execute_result"
    }
   ],
   "source": [
    "%%sql\n",
    "/* OffenseDefensePosition */\n",
    "DROP TABLE IF EXISTS OffenseDefensePosition;\n",
    "CREATE TABLE OffenseDefensePosition ( \n",
    "    ptype VARCHAR(20) PRIMARY KEY,\n",
    "    offensive_postion_type CHAR(2),\n",
    "    defensive_postion_type CHAR(2),\n",
    "    FOREIGN KEY (ptype) REFERENCES Position\n",
    "        ON DELETE CASCADE\n",
    ");"
   ]
  },
  {
   "cell_type": "markdown",
   "metadata": {},
   "source": [
    "### Many-to-many relations\n",
    "Create a table for each relationship, except those connecting a weak entity set to its owner entity set.\n",
    "> * Create a table for the relationship set.\n",
    "> * Add all primary keys of the participating entity sets as fields in the table.\n",
    "> * Add a field for each attribute of the relationship.\n",
    "> * Declare a primary key using all key fields from the participating entity sets.\n",
    "> * Declare foreign key constraints for all key fields from their respective entity sets.\n",
    "> * Optionally, set a constraint to automatically delete any tuples in the table for which entities no longer exist."
   ]
  },
  {
   "cell_type": "code",
   "execution_count": 6,
   "metadata": {
    "collapsed": false
   },
   "outputs": [
    {
     "name": "stdout",
     "output_type": "stream",
     "text": [
      "Done.\n",
      "Done.\n",
      "Done.\n",
      "Done.\n"
     ]
    },
    {
     "data": {
      "text/plain": [
       "[]"
      ]
     },
     "execution_count": 6,
     "metadata": {},
     "output_type": "execute_result"
    }
   ],
   "source": [
    "%%sql\n",
    "/* PRIn */\n",
    "DROP TABLE IF EXISTS PRIn;\n",
    "CREATE TABLE PRIn ( \n",
    "    player_id INTEGER,\n",
    "    play_id INTEGER,\n",
    "    PRIMARY KEY (player_id, play_id),\n",
    "    FOREIGN KEY (player_id) REFERENCES Players\n",
    "        ON DELETE CASCADE,\n",
    "    FOREIGN KEY (play_id) REFERENCES Plays\n",
    "        ON DELETE CASCADE\n",
    ");\n",
    "\n",
    "\n",
    "/* ParticipateIn */\n",
    "DROP TABLE IF EXISTS ParticipateIn;\n",
    "CREATE TABLE ParticipateIn ( \n",
    "    player_id INTEGER,\n",
    "    play_id INTEGER,\n",
    "    participation_type VARCHAR(30),\n",
    "    PRIMARY KEY (player_id, play_id),\n",
    "    FOREIGN KEY (player_id) REFERENCES Players\n",
    "        ON DELETE CASCADE,\n",
    "    FOREIGN KEY (play_id) REFERENCES Plays\n",
    "        ON DELETE CASCADE\n",
    ");"
   ]
  },
  {
   "cell_type": "markdown",
   "metadata": {},
   "source": [
    "### Many-to-one relations\n",
    "We could follow the same strategy as above for many-to-one and one-to-one relationships. However, one problem with this strategy is that we cannot capture participation constraints for these relations. For example, given the relation table `PlaysPosition` below, there is nothing to prevent us from signing up a player with multiple teams at the same time. "
   ]
  },
  {
   "cell_type": "code",
   "execution_count": 7,
   "metadata": {
    "collapsed": false
   },
   "outputs": [
    {
     "name": "stdout",
     "output_type": "stream",
     "text": [
      "Done.\n",
      "Done.\n"
     ]
    },
    {
     "data": {
      "text/plain": [
       "[]"
      ]
     },
     "execution_count": 7,
     "metadata": {},
     "output_type": "execute_result"
    }
   ],
   "source": [
    "%%sql\n",
    "/* PlaysPosition */\n",
    "DROP TABLE IF EXISTS PlaysPosition;\n",
    "CREATE TABLE PlaysPosition ( \n",
    "    ptype VARCHAR(20),\n",
    "    player_id INTEGER,\n",
    "    PRIMARY KEY (ptype, player_id),\n",
    "    FOREIGN KEY (ptype) REFERENCES Position\n",
    "        ON DELETE CASCADE,\n",
    "    FOREIGN KEY (player_id) REFERENCES Players\n",
    "        ON DELETE CASCADE\n",
    ");"
   ]
  },
  {
   "cell_type": "markdown",
   "metadata": {},
   "source": [
    "Instead, since the `PlaysPosition` relation is many-to-one, we don't in fact need a table for the relation itself. We can instead register the `Position type` directly in the `Players` table.\n",
    "\n",
    "Given a many-to-one relationship, where the many entity set is the `source` and the one entity set is the `target`,\n",
    "> * Add every primary key field of the target as a field in the source.\n",
    "> * Declare these fields as foreign keys.\n",
    "> * Declare these fields as not null. (This enforces the participation constraint)\n",
    "\n",
    "Instead of dropping and recreating the `Players` table, we can use an `ALTER` statement to change the fields and constraints in the table. Take a moment to think about altering the table. What if the `Players` table already had records? How can we make sure the added `ptype` field is all populated, so we do not violate the NOT NULL participation constraint?"
   ]
  },
  {
   "cell_type": "code",
   "execution_count": 8,
   "metadata": {
    "collapsed": false
   },
   "outputs": [
    {
     "name": "stdout",
     "output_type": "stream",
     "text": [
      "Done.\n",
      "Done.\n",
      "(sqlite3.OperationalError) near \"FOREIGN\": syntax error [SQL: u'ALTER TABLE Players ADD FOREIGN KEY (ptype) REFERENCES Position;']\n"
     ]
    }
   ],
   "source": [
    "%%sql\n",
    "DROP TABLE IF EXISTS PlaysPosition;\n",
    "ALTER TABLE Players ADD COLUMN ptype VARCHAR(20);\n",
    "ALTER TABLE Players ADD FOREIGN KEY (ptype) REFERENCES Position;"
   ]
  },
  {
   "cell_type": "markdown",
   "metadata": {},
   "source": [
    "However, SQLite does not support adding key constraints in `ALTER TABLE` commands. Therefore, we'll just re-create the the `Players` table.\n"
   ]
  },
  {
   "cell_type": "code",
   "execution_count": 9,
   "metadata": {
    "collapsed": false
   },
   "outputs": [
    {
     "name": "stdout",
     "output_type": "stream",
     "text": [
      "Done.\n",
      "Done.\n"
     ]
    },
    {
     "data": {
      "text/plain": [
       "[]"
      ]
     },
     "execution_count": 9,
     "metadata": {},
     "output_type": "execute_result"
    }
   ],
   "source": [
    "%%sql\n",
    "DROP TABLE IF EXISTS Players;\n",
    "CREATE TABLE Players ( \n",
    "    player_id UNSIGNED INT PRIMARY KEY, \n",
    "    name VARCHAR(50),\n",
    "    ptype VARCHAR(20) NOT NULL,\n",
    "    FOREIGN KEY (ptype) REFERENCES Position\n",
    ");"
   ]
  },
  {
   "cell_type": "markdown",
   "metadata": {},
   "source": [
    "### One-to-one relationships\n",
    "\n",
    "For one-to-one relationships, we follow a similar strategy as in the many-to-one case, except each side can be considered `source` and `target` (follow the arrows).\n",
    "> * Add every primary key field of one entity set as a field in the other entity set.\n",
    "> * Declare these fields as foreign keys.\n",
    "> * Declare these fields as not null. (This enforces the participation constraint)\n",
    "\n",
    "We have no one-to-one examples in our E/R diagram."
   ]
  },
  {
   "cell_type": "markdown",
   "metadata": {},
   "source": [
    "## Exercise\n",
    "\n",
    "Translate the remaining relations into tables. Pay close attention to the dual relationship between the `Games` and `Teams` entity sets. Also, note that the arrow from `Players` to `Teams` is not thick (i.e., participation is partial, not total -- hint: can the associated team key be NULL?)."
   ]
  },
  {
   "cell_type": "code",
   "execution_count": 10,
   "metadata": {
    "collapsed": false
   },
   "outputs": [
    {
     "name": "stdout",
     "output_type": "stream",
     "text": [
      "Done.\n",
      "Done.\n"
     ]
    },
    {
     "data": {
      "text/plain": [
       "[]"
      ]
     },
     "execution_count": 10,
     "metadata": {},
     "output_type": "execute_result"
    }
   ],
   "source": [
    "%%sql\n",
    "DROP TABLE IF EXISTS MemberOf;\n",
    "CREATE TABLE MemberOf (\n",
    "    player_id UNSIGNED INT,\n",
    "    name VARCHAR(50),\n",
    ");"
   ]
  },
  {
   "cell_type": "code",
   "execution_count": 12,
   "metadata": {
    "collapsed": false
   },
   "outputs": [
    {
     "name": "stdout",
     "output_type": "stream",
     "text": [
      "Done.\n",
      "(sqlite3.OperationalError) near \")\": syntax error [SQL: u'CREATE TABLE PlayingHome (\\n    date DATE,\\n    location VARCHAR(20),\\n    home_city_name VARCHAR(40) NOT NULL,\\n    home_team_name VARCHAR(50) NOT NULL,\\n    away_city_name VARCHAR(40) NOT NULL,\\n    away_team_name VARCHAR(50) NOT NULL,\\n    \\n    \\n);']\n"
     ]
    }
   ],
   "source": [
    "%%sql\n",
    "DROP TABLE IF EXISTS PlayingHome;\n",
    "CREATE TABLE PlayingHome (\n",
    "    date DATE,\n",
    "    location VARCHAR(20),\n",
    "    home_city_name VARCHAR(40) NOT NULL,\n",
    "    home_team_name VARCHAR(50) NOT NULL,\n",
    "    away_city_name VARCHAR(40) NOT NULL,\n",
    "    away_team_name VARCHAR(50) NOT NULL,\n",
    "    \n",
    "    \n",
    ");"
   ]
  },
  {
   "cell_type": "code",
   "execution_count": null,
   "metadata": {
    "collapsed": true
   },
   "outputs": [],
   "source": []
  }
 ],
 "metadata": {
  "anaconda-cloud": {},
  "kernelspec": {
   "display_name": "Python 2",
   "language": "python",
   "name": "python2"
  },
  "language_info": {
   "codemirror_mode": {
    "name": "ipython",
    "version": 2
   },
   "file_extension": ".py",
   "mimetype": "text/x-python",
   "name": "python",
   "nbconvert_exporter": "python",
   "pygments_lexer": "ipython2",
   "version": "2.7.13"
  }
 },
 "nbformat": 4,
 "nbformat_minor": 1
}
