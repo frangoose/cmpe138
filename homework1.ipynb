{
 "cells": [
  {
   "cell_type": "markdown",
   "metadata": {},
   "source": [
    "**Nicholas Frangos**\n",
    "CMPE 138\n",
    "Homework 1"
   ]
  },
  {
   "cell_type": "markdown",
   "metadata": {},
   "source": [
    "Loading SQLite."
   ]
  },
  {
   "cell_type": "code",
   "execution_count": 1,
   "metadata": {
    "collapsed": false,
    "scrolled": true
   },
   "outputs": [
    {
     "data": {
      "text/plain": [
       "'Connected: None@None'"
      ]
     },
     "execution_count": 1,
     "metadata": {},
     "output_type": "execute_result"
    }
   ],
   "source": [
    "%load_ext sql\n",
    "%sql sqlite://"
   ]
  },
  {
   "cell_type": "markdown",
   "metadata": {},
   "source": [
    "Q1: Creating tables."
   ]
  },
  {
   "cell_type": "code",
   "execution_count": 2,
   "metadata": {
    "collapsed": false
   },
   "outputs": [
    {
     "name": "stdout",
     "output_type": "stream",
     "text": [
      "Done.\n",
      "Done.\n",
      "Done.\n"
     ]
    },
    {
     "data": {
      "text/plain": [
       "[]"
      ]
     },
     "execution_count": 2,
     "metadata": {},
     "output_type": "execute_result"
    }
   ],
   "source": [
    "%%sql \n",
    "\n",
    "CREATE TABLE Suppliers(\n",
    "    sid INTEGER PRIMARY KEY,\n",
    "    sname STRING,\n",
    "    address STRING);\n",
    "\n",
    "CREATE TABLE Parts(\n",
    "    pid INTEGER PRIMARY KEY,\n",
    "    pname STRING,\n",
    "    color STRING);\n",
    "\n",
    "CREATE TABLE Catalog(\n",
    "    sid INTEGER,\n",
    "    pid INTEGER,\n",
    "    cost REAL,\n",
    "    FOREIGN KEY(sid) REFERENCES Suppliers(sid),\n",
    "    FOREIGN KEY(pid) REFERENCES Parts(pid)\n",
    "    PRIMARY KEY (sid,pid));"
   ]
  },
  {
   "cell_type": "markdown",
   "metadata": {
    "collapsed": true
   },
   "source": [
    "Inserting values."
   ]
  },
  {
   "cell_type": "code",
   "execution_count": 3,
   "metadata": {
    "collapsed": false
   },
   "outputs": [
    {
     "name": "stdout",
     "output_type": "stream",
     "text": [
      "1 rows affected.\n",
      "1 rows affected.\n",
      "1 rows affected.\n",
      "1 rows affected.\n",
      "1 rows affected.\n",
      "1 rows affected.\n",
      "1 rows affected.\n",
      "1 rows affected.\n",
      "1 rows affected.\n",
      "1 rows affected.\n",
      "Done.\n",
      "1 rows affected.\n",
      "1 rows affected.\n",
      "1 rows affected.\n",
      "1 rows affected.\n",
      "1 rows affected.\n",
      "1 rows affected.\n",
      "1 rows affected.\n",
      "1 rows affected.\n",
      "1 rows affected.\n",
      "1 rows affected.\n",
      "1 rows affected.\n",
      "1 rows affected.\n"
     ]
    },
    {
     "data": {
      "text/plain": [
       "[]"
      ]
     },
     "execution_count": 3,
     "metadata": {},
     "output_type": "execute_result"
    }
   ],
   "source": [
    "%%sql\n",
    "INSERT INTO Suppliers(sid, sname, address) VALUES(10,\"Acme Widget Suppliers\",\"221 Packer Street\");\n",
    "INSERT INTO Suppliers(sid, sname, address) VALUES(11,\"Yosemite Sham\",\"address2\");\n",
    "INSERT INTO Suppliers(sid, sname, address) VALUES(12,\"Particular Part Suppliers\",\"address3\");\n",
    "INSERT INTO Suppliers(sid, sname, address) VALUES(13,\"eBay\",\"address4\");\n",
    "\n",
    "INSERT INTO Parts(pid, pname, color) VALUES(20,\"Part1\",\"Red\");\n",
    "INSERT INTO Parts(pid, pname, color) VALUES(21,\"Part2\",\"Blue\");\n",
    "INSERT INTO Parts(pid, pname, color) VALUES(22,\"Part3\",\"Yellow\");\n",
    "INSERT INTO Parts(pid, pname, color) VALUES(23,\"Part4\",\"Green\");\n",
    "\n",
    "INSERT INTO Catalog(sid, pid, cost) VALUES(10,20, 10.00);\n",
    "INSERT INTO Catalog(sid, pid, cost) VALUES(10,21, 11.00);\n",
    "--INSERT INTO Catalog(sid, pid, cost) VALUES(10,22, 12.00);\n",
    "INSERT INTO Catalog(sid, pid, cost) VALUES(10,23, 13.00);\n",
    "\n",
    "INSERT INTO Catalog(sid, pid, cost) VALUES(11,20, 8.00);\n",
    "INSERT INTO Catalog(sid, pid, cost) VALUES(11,21, 10.00);\n",
    "INSERT INTO Catalog(sid, pid, cost) VALUES(11,22, 12.00);\n",
    "INSERT INTO Catalog(sid, pid, cost) VALUES(11,23, 14.00);\n",
    "\n",
    "INSERT INTO Catalog(sid, pid, cost) VALUES(12,20, 9.50);\n",
    "INSERT INTO Catalog(sid, pid, cost) VALUES(12,21, 11.00);\n",
    "INSERT INTO Catalog(sid, pid, cost) VALUES(12,22, 12.50);\n",
    "INSERT INTO Catalog(sid, pid, cost) VALUES(12,23, 14.00);\n",
    "\n",
    "INSERT INTO Catalog(sid, pid, cost) VALUES(13,20, 4.00);\n",
    "INSERT INTO Catalog(sid, pid, cost) VALUES(13,21, 5.00);\n",
    "INSERT INTO Catalog(sid, pid, cost) VALUES(13,22, 6.00);\n",
    "INSERT INTO Catalog(sid, pid, cost) VALUES(13,23, 12.34);\n"
   ]
  },
  {
   "cell_type": "code",
   "execution_count": 4,
   "metadata": {
    "collapsed": false
   },
   "outputs": [
    {
     "name": "stdout",
     "output_type": "stream",
     "text": [
      "Done.\n"
     ]
    },
    {
     "data": {
      "text/html": [
       "<table>\n",
       "    <tr>\n",
       "        <th>sid</th>\n",
       "        <th>sname</th>\n",
       "        <th>address</th>\n",
       "    </tr>\n",
       "    <tr>\n",
       "        <td>10</td>\n",
       "        <td>Acme Widget Suppliers</td>\n",
       "        <td>221 Packer Street</td>\n",
       "    </tr>\n",
       "    <tr>\n",
       "        <td>11</td>\n",
       "        <td>Yosemite Sham</td>\n",
       "        <td>address2</td>\n",
       "    </tr>\n",
       "    <tr>\n",
       "        <td>12</td>\n",
       "        <td>Particular Part Suppliers</td>\n",
       "        <td>address3</td>\n",
       "    </tr>\n",
       "    <tr>\n",
       "        <td>13</td>\n",
       "        <td>eBay</td>\n",
       "        <td>address4</td>\n",
       "    </tr>\n",
       "</table>"
      ],
      "text/plain": [
       "[(10, u'Acme Widget Suppliers', u'221 Packer Street'),\n",
       " (11, u'Yosemite Sham', u'address2'),\n",
       " (12, u'Particular Part Suppliers', u'address3'),\n",
       " (13, u'eBay', u'address4')]"
      ]
     },
     "execution_count": 4,
     "metadata": {},
     "output_type": "execute_result"
    }
   ],
   "source": [
    "%%sql\n",
    "SELECT DISTINCT *\n",
    "FROM Suppliers s;"
   ]
  },
  {
   "cell_type": "code",
   "execution_count": 5,
   "metadata": {
    "collapsed": false
   },
   "outputs": [
    {
     "name": "stdout",
     "output_type": "stream",
     "text": [
      "Done.\n"
     ]
    },
    {
     "data": {
      "text/html": [
       "<table>\n",
       "    <tr>\n",
       "        <th>pid</th>\n",
       "        <th>pname</th>\n",
       "        <th>color</th>\n",
       "    </tr>\n",
       "    <tr>\n",
       "        <td>20</td>\n",
       "        <td>Part1</td>\n",
       "        <td>Red</td>\n",
       "    </tr>\n",
       "    <tr>\n",
       "        <td>21</td>\n",
       "        <td>Part2</td>\n",
       "        <td>Blue</td>\n",
       "    </tr>\n",
       "    <tr>\n",
       "        <td>22</td>\n",
       "        <td>Part3</td>\n",
       "        <td>Yellow</td>\n",
       "    </tr>\n",
       "    <tr>\n",
       "        <td>23</td>\n",
       "        <td>Part4</td>\n",
       "        <td>Green</td>\n",
       "    </tr>\n",
       "</table>"
      ],
      "text/plain": [
       "[(20, u'Part1', u'Red'),\n",
       " (21, u'Part2', u'Blue'),\n",
       " (22, u'Part3', u'Yellow'),\n",
       " (23, u'Part4', u'Green')]"
      ]
     },
     "execution_count": 5,
     "metadata": {},
     "output_type": "execute_result"
    }
   ],
   "source": [
    "%%sql\n",
    "SELECT *\n",
    "FROM Parts p;"
   ]
  },
  {
   "cell_type": "code",
   "execution_count": 6,
   "metadata": {
    "collapsed": false
   },
   "outputs": [
    {
     "name": "stdout",
     "output_type": "stream",
     "text": [
      "Done.\n"
     ]
    },
    {
     "data": {
      "text/html": [
       "<table>\n",
       "    <tr>\n",
       "        <th>sid</th>\n",
       "        <th>pid</th>\n",
       "        <th>cost</th>\n",
       "    </tr>\n",
       "    <tr>\n",
       "        <td>10</td>\n",
       "        <td>20</td>\n",
       "        <td>10.0</td>\n",
       "    </tr>\n",
       "    <tr>\n",
       "        <td>10</td>\n",
       "        <td>21</td>\n",
       "        <td>11.0</td>\n",
       "    </tr>\n",
       "    <tr>\n",
       "        <td>10</td>\n",
       "        <td>23</td>\n",
       "        <td>13.0</td>\n",
       "    </tr>\n",
       "    <tr>\n",
       "        <td>11</td>\n",
       "        <td>20</td>\n",
       "        <td>8.0</td>\n",
       "    </tr>\n",
       "    <tr>\n",
       "        <td>11</td>\n",
       "        <td>21</td>\n",
       "        <td>10.0</td>\n",
       "    </tr>\n",
       "    <tr>\n",
       "        <td>11</td>\n",
       "        <td>22</td>\n",
       "        <td>12.0</td>\n",
       "    </tr>\n",
       "    <tr>\n",
       "        <td>11</td>\n",
       "        <td>23</td>\n",
       "        <td>14.0</td>\n",
       "    </tr>\n",
       "    <tr>\n",
       "        <td>12</td>\n",
       "        <td>20</td>\n",
       "        <td>9.5</td>\n",
       "    </tr>\n",
       "    <tr>\n",
       "        <td>12</td>\n",
       "        <td>21</td>\n",
       "        <td>11.0</td>\n",
       "    </tr>\n",
       "    <tr>\n",
       "        <td>12</td>\n",
       "        <td>22</td>\n",
       "        <td>12.5</td>\n",
       "    </tr>\n",
       "    <tr>\n",
       "        <td>12</td>\n",
       "        <td>23</td>\n",
       "        <td>14.0</td>\n",
       "    </tr>\n",
       "    <tr>\n",
       "        <td>13</td>\n",
       "        <td>20</td>\n",
       "        <td>4.0</td>\n",
       "    </tr>\n",
       "    <tr>\n",
       "        <td>13</td>\n",
       "        <td>21</td>\n",
       "        <td>5.0</td>\n",
       "    </tr>\n",
       "    <tr>\n",
       "        <td>13</td>\n",
       "        <td>22</td>\n",
       "        <td>6.0</td>\n",
       "    </tr>\n",
       "    <tr>\n",
       "        <td>13</td>\n",
       "        <td>23</td>\n",
       "        <td>12.34</td>\n",
       "    </tr>\n",
       "</table>"
      ],
      "text/plain": [
       "[(10, 20, 10.0),\n",
       " (10, 21, 11.0),\n",
       " (10, 23, 13.0),\n",
       " (11, 20, 8.0),\n",
       " (11, 21, 10.0),\n",
       " (11, 22, 12.0),\n",
       " (11, 23, 14.0),\n",
       " (12, 20, 9.5),\n",
       " (12, 21, 11.0),\n",
       " (12, 22, 12.5),\n",
       " (12, 23, 14.0),\n",
       " (13, 20, 4.0),\n",
       " (13, 21, 5.0),\n",
       " (13, 22, 6.0),\n",
       " (13, 23, 12.34)]"
      ]
     },
     "execution_count": 6,
     "metadata": {},
     "output_type": "execute_result"
    }
   ],
   "source": [
    "%%sql\n",
    "SELECT *\n",
    "FROM Catalog c;"
   ]
  },
  {
   "cell_type": "markdown",
   "metadata": {},
   "source": [
    "Q2: Testing Queries"
   ]
  },
  {
   "cell_type": "markdown",
   "metadata": {},
   "source": [
    "1. Select distinct Parts pnames from the Parts and Catalog tables that have matching pid's. Returns all pnames.\n",
    "\n",
    "2. Select Supplier snames that do not carry a pid except if their sid matches that of the Catalog's sid.\n",
    "\n",
    "3. Select Supplier snames that do not carry a red part except if their sid and pid matches that of the Catalog's red parts.\n",
    "\n",
    "4. Select a Parts pname where the Parts pid matches the catalog and where the supplier of that part's sid matches the Catalog and that supplier is Acme Widget Supplier.\n",
    "\n",
    "5. Select distinct catalog sid where the cost is greater than the average cost for a pid in the Catalog.\n",
    "\n",
    "6. Select max cost Parts pid and Supplier sname where the catalog contains matching pid and sid.\n",
    "\n",
    "7. Select distinct sid that does not exist in the Catalog where the part pid and catalog pid match and the part color is not red.\n",
    "\n",
    "8. Select distinct sid from the Catalog that matches the Parts pid and is red AND also a distinct sid from the Catalog that matches the Parts pid and is green.\n",
    "\n",
    "9. Select distinct sid from the catalog where the Catalog pid matches the Parts pid and is red OR a distinct sid from the Catalog that matches the Parts pid and is green. (NULL SET)\n",
    "\n",
    "10. Count snames from Suppliers where the Parts pid and Suppliers sid match the catalog. Group entries by Suppliers sname and sid for every Parts color green.\n",
    "\n",
    "11. Select Suppliers sname where Catalog cost is maximum, Parts pid and Suppliers sid matches the Catalog's. Group Suppliers sid and sname by any Parts color Green and red."
   ]
  },
  {
   "cell_type": "markdown",
   "metadata": {},
   "source": [
    "Q3: Write SQL queries."
   ]
  },
  {
   "cell_type": "markdown",
   "metadata": {},
   "source": [
    "1.Find the names of suppliers who supply some red part."
   ]
  },
  {
   "cell_type": "code",
   "execution_count": 7,
   "metadata": {
    "collapsed": false
   },
   "outputs": [
    {
     "name": "stdout",
     "output_type": "stream",
     "text": [
      "Done.\n"
     ]
    },
    {
     "data": {
      "text/html": [
       "<table>\n",
       "    <tr>\n",
       "        <th>sname</th>\n",
       "    </tr>\n",
       "    <tr>\n",
       "        <td>Acme Widget Suppliers</td>\n",
       "    </tr>\n",
       "    <tr>\n",
       "        <td>Yosemite Sham</td>\n",
       "    </tr>\n",
       "    <tr>\n",
       "        <td>Particular Part Suppliers</td>\n",
       "    </tr>\n",
       "    <tr>\n",
       "        <td>eBay</td>\n",
       "    </tr>\n",
       "</table>"
      ],
      "text/plain": [
       "[(u'Acme Widget Suppliers',),\n",
       " (u'Yosemite Sham',),\n",
       " (u'Particular Part Suppliers',),\n",
       " (u'eBay',)]"
      ]
     },
     "execution_count": 7,
     "metadata": {},
     "output_type": "execute_result"
    }
   ],
   "source": [
    "%%sql\n",
    "SELECT s.sname\n",
    "FROM Suppliers s, Parts p, Catalog c\n",
    "WHERE s.sid = c.sid AND p.pid = c.pid AND p.color IS 'Red';"
   ]
  },
  {
   "cell_type": "markdown",
   "metadata": {
    "collapsed": true
   },
   "source": [
    "2.Find the sids of suppliers who supply some red or green part."
   ]
  },
  {
   "cell_type": "code",
   "execution_count": 8,
   "metadata": {
    "collapsed": false
   },
   "outputs": [
    {
     "name": "stdout",
     "output_type": "stream",
     "text": [
      "Done.\n"
     ]
    },
    {
     "data": {
      "text/html": [
       "<table>\n",
       "    <tr>\n",
       "        <th>sid</th>\n",
       "    </tr>\n",
       "    <tr>\n",
       "        <td>10</td>\n",
       "    </tr>\n",
       "    <tr>\n",
       "        <td>11</td>\n",
       "    </tr>\n",
       "    <tr>\n",
       "        <td>12</td>\n",
       "    </tr>\n",
       "    <tr>\n",
       "        <td>13</td>\n",
       "    </tr>\n",
       "</table>"
      ],
      "text/plain": [
       "[(10,), (11,), (12,), (13,)]"
      ]
     },
     "execution_count": 8,
     "metadata": {},
     "output_type": "execute_result"
    }
   ],
   "source": [
    "%%sql\n",
    "SELECT DISTINCT s.sid\n",
    "FROM Suppliers s, Parts p, Catalog c\n",
    "WHERE s.sid = c.sid AND p.pid = c.pid AND (p.color IS 'Red' OR p.color IS 'Green');"
   ]
  },
  {
   "cell_type": "markdown",
   "metadata": {},
   "source": [
    "3.Find the sids of suppliers who supply some red part or are at 221 Packer Street."
   ]
  },
  {
   "cell_type": "code",
   "execution_count": 9,
   "metadata": {
    "collapsed": false
   },
   "outputs": [
    {
     "name": "stdout",
     "output_type": "stream",
     "text": [
      "Done.\n"
     ]
    },
    {
     "data": {
      "text/html": [
       "<table>\n",
       "    <tr>\n",
       "        <th>sid</th>\n",
       "    </tr>\n",
       "    <tr>\n",
       "        <td>10</td>\n",
       "    </tr>\n",
       "    <tr>\n",
       "        <td>11</td>\n",
       "    </tr>\n",
       "    <tr>\n",
       "        <td>12</td>\n",
       "    </tr>\n",
       "    <tr>\n",
       "        <td>13</td>\n",
       "    </tr>\n",
       "</table>"
      ],
      "text/plain": [
       "[(10,), (11,), (12,), (13,)]"
      ]
     },
     "execution_count": 9,
     "metadata": {},
     "output_type": "execute_result"
    }
   ],
   "source": [
    "%%sql\n",
    "SELECT DISTINCT s.sid\n",
    "FROM Suppliers s, Parts p, Catalog c\n",
    "WHERE s.sid = c.sid AND p.pid = c.pid AND (p.color IS 'Red' OR s.address IS \"221 Packer Street\");"
   ]
  },
  {
   "cell_type": "markdown",
   "metadata": {},
   "source": [
    "4.Find the sids of suppliers who supply some red part and some green part."
   ]
  },
  {
   "cell_type": "code",
   "execution_count": 10,
   "metadata": {
    "collapsed": false
   },
   "outputs": [
    {
     "name": "stdout",
     "output_type": "stream",
     "text": [
      "Done.\n"
     ]
    },
    {
     "data": {
      "text/html": [
       "<table>\n",
       "    <tr>\n",
       "        <th>sid</th>\n",
       "    </tr>\n",
       "    <tr>\n",
       "        <td>10</td>\n",
       "    </tr>\n",
       "    <tr>\n",
       "        <td>11</td>\n",
       "    </tr>\n",
       "    <tr>\n",
       "        <td>12</td>\n",
       "    </tr>\n",
       "    <tr>\n",
       "        <td>13</td>\n",
       "    </tr>\n",
       "</table>"
      ],
      "text/plain": [
       "[(10,), (11,), (12,), (13,)]"
      ]
     },
     "execution_count": 10,
     "metadata": {},
     "output_type": "execute_result"
    }
   ],
   "source": [
    "%%sql\n",
    "SELECT DISTINCT s.sid\n",
    "FROM Suppliers s, Parts p, Catalog c\n",
    "WHERE s.sid = c.sid AND p.pid = c.pid AND p.color IS 'Red'\n",
    "INTERSECT\n",
    "SELECT DISTINCT s1.sid\n",
    "FROM Suppliers s1, Parts p1, Catalog c1\n",
    "WHERE s1.sid = c1.sid AND p1.pid = c1.pid AND p1.color IS 'Green'\n"
   ]
  },
  {
   "cell_type": "markdown",
   "metadata": {},
   "source": [
    "5.Find the sids of suppliers who supply every part."
   ]
  },
  {
   "cell_type": "code",
   "execution_count": 11,
   "metadata": {
    "collapsed": false
   },
   "outputs": [
    {
     "name": "stdout",
     "output_type": "stream",
     "text": [
      "Done.\n"
     ]
    },
    {
     "data": {
      "text/html": [
       "<table>\n",
       "    <tr>\n",
       "        <th>sid</th>\n",
       "    </tr>\n",
       "    <tr>\n",
       "        <td>13</td>\n",
       "    </tr>\n",
       "</table>"
      ],
      "text/plain": [
       "[(13,)]"
      ]
     },
     "execution_count": 11,
     "metadata": {},
     "output_type": "execute_result"
    }
   ],
   "source": [
    "%%sql\n",
    "SELECT DISTINCT s.sid\n",
    "FROM Suppliers s, Parts p, Catalog c\n",
    "WHERE s.sid = c.sid AND p.pid = c.pid\n",
    "GROUP BY c.pid\n",
    "HAVING COUNT(*) = (SELECT COUNT(*)\n",
    "                   FROM Parts p1);"
   ]
  },
  {
   "cell_type": "markdown",
   "metadata": {},
   "source": [
    "6.Find the sids of who supply every red part."
   ]
  },
  {
   "cell_type": "code",
   "execution_count": 12,
   "metadata": {
    "collapsed": false
   },
   "outputs": [
    {
     "name": "stdout",
     "output_type": "stream",
     "text": [
      "Done.\n"
     ]
    },
    {
     "data": {
      "text/html": [
       "<table>\n",
       "    <tr>\n",
       "        <th>sid</th>\n",
       "    </tr>\n",
       "    <tr>\n",
       "        <td>13</td>\n",
       "    </tr>\n",
       "</table>"
      ],
      "text/plain": [
       "[(13,)]"
      ]
     },
     "execution_count": 12,
     "metadata": {},
     "output_type": "execute_result"
    }
   ],
   "source": [
    "%%sql\n",
    "SELECT DISTINCT s.sid\n",
    "FROM Suppliers s, Parts p, Catalog c\n",
    "WHERE s.sid = c.sid AND p.pid = c.pid AND p.color IS 'Red'\n",
    "GROUP BY c.pid\n",
    "HAVING COUNT(*) = (SELECT COUNT(*)\n",
    "                   FROM Parts p1);"
   ]
  },
  {
   "cell_type": "markdown",
   "metadata": {},
   "source": [
    "7.Find the sids of suppliers who supply every red or green part."
   ]
  },
  {
   "cell_type": "code",
   "execution_count": 13,
   "metadata": {
    "collapsed": false
   },
   "outputs": [
    {
     "name": "stdout",
     "output_type": "stream",
     "text": [
      "Done.\n"
     ]
    },
    {
     "data": {
      "text/html": [
       "<table>\n",
       "    <tr>\n",
       "        <th>sid</th>\n",
       "    </tr>\n",
       "    <tr>\n",
       "        <td>13</td>\n",
       "    </tr>\n",
       "</table>"
      ],
      "text/plain": [
       "[(13,)]"
      ]
     },
     "execution_count": 13,
     "metadata": {},
     "output_type": "execute_result"
    }
   ],
   "source": [
    "%%sql\n",
    "SELECT DISTINCT s.sid\n",
    "FROM Suppliers s, Parts p, Catalog c\n",
    "WHERE s.sid = c.sid AND p.pid = c.pid AND (p.color IS 'Red' OR p.color IS 'GREEN')\n",
    "GROUP BY c.pid\n",
    "HAVING COUNT(*) = (SELECT COUNT(*)\n",
    "                   FROM Parts p1);"
   ]
  },
  {
   "cell_type": "markdown",
   "metadata": {},
   "source": [
    "8.Find the sids of suppliers who supply every red part or supply every green part."
   ]
  },
  {
   "cell_type": "code",
   "execution_count": 14,
   "metadata": {
    "collapsed": false
   },
   "outputs": [
    {
     "name": "stdout",
     "output_type": "stream",
     "text": [
      "Done.\n"
     ]
    },
    {
     "data": {
      "text/html": [
       "<table>\n",
       "    <tr>\n",
       "        <th>sid</th>\n",
       "    </tr>\n",
       "    <tr>\n",
       "        <td>13</td>\n",
       "    </tr>\n",
       "</table>"
      ],
      "text/plain": [
       "[(13,)]"
      ]
     },
     "execution_count": 14,
     "metadata": {},
     "output_type": "execute_result"
    }
   ],
   "source": [
    "%%sql\n",
    "SELECT DISTINCT s.sid\n",
    "FROM Suppliers s, Parts p, Catalog c\n",
    "WHERE s.sid = c.sid AND p.pid = c.pid AND p.color IS 'Red'\n",
    "GROUP BY c.pid\n",
    "HAVING COUNT(*) = (SELECT COUNT(*)\n",
    "                   FROM Parts p1)\n",
    "UNION\n",
    "SELECT DISTINCT s1.sid\n",
    "FROM Suppliers s1, Parts p2, Catalog c1\n",
    "WHERE s1.sid = c1.sid AND p2.pid = c1.pid AND p2.color IS 'GREEN'\n",
    "GROUP BY c1.pid\n",
    "HAVING COUNT(*) = (SELECT COUNT(*)\n",
    "                   FROM Parts p3);"
   ]
  },
  {
   "cell_type": "markdown",
   "metadata": {},
   "source": [
    "9.Find pairs of sids such that the supplier with the first sid charges more for some part than the supplier with the second sid."
   ]
  },
  {
   "cell_type": "code",
   "execution_count": 15,
   "metadata": {
    "collapsed": false
   },
   "outputs": [
    {
     "name": "stdout",
     "output_type": "stream",
     "text": [
      "Done.\n"
     ]
    },
    {
     "data": {
      "text/html": [
       "<table>\n",
       "    <tr>\n",
       "        <th>sid</th>\n",
       "        <th>sid_1</th>\n",
       "    </tr>\n",
       "    <tr>\n",
       "        <td>10</td>\n",
       "        <td>13</td>\n",
       "    </tr>\n",
       "    <tr>\n",
       "        <td>11</td>\n",
       "        <td>10</td>\n",
       "    </tr>\n",
       "    <tr>\n",
       "        <td>11</td>\n",
       "        <td>13</td>\n",
       "    </tr>\n",
       "    <tr>\n",
       "        <td>12</td>\n",
       "        <td>10</td>\n",
       "    </tr>\n",
       "    <tr>\n",
       "        <td>12</td>\n",
       "        <td>13</td>\n",
       "    </tr>\n",
       "</table>"
      ],
      "text/plain": [
       "[(10, 13), (11, 10), (11, 13), (12, 10), (12, 13)]"
      ]
     },
     "execution_count": 15,
     "metadata": {},
     "output_type": "execute_result"
    }
   ],
   "source": [
    "%%sql\n",
    "SELECT s1.sid, s2.sid\n",
    "FROM Suppliers s1, Suppliers s2, Catalog c1, Catalog c2\n",
    "WHERE s1.sid = c1.sid AND s2.sid = c2.sid\n",
    "GROUP BY s1.sid, s2.sid\n",
    "HAVING c1.cost > c2.cost;"
   ]
  },
  {
   "cell_type": "markdown",
   "metadata": {},
   "source": [
    "10.Find the pids of parts supplied by at least two different suppliers."
   ]
  },
  {
   "cell_type": "code",
   "execution_count": 16,
   "metadata": {
    "collapsed": false
   },
   "outputs": [
    {
     "name": "stdout",
     "output_type": "stream",
     "text": [
      "Done.\n"
     ]
    },
    {
     "data": {
      "text/html": [
       "<table>\n",
       "    <tr>\n",
       "        <th>pid</th>\n",
       "    </tr>\n",
       "    <tr>\n",
       "        <td>20</td>\n",
       "    </tr>\n",
       "    <tr>\n",
       "        <td>21</td>\n",
       "    </tr>\n",
       "    <tr>\n",
       "        <td>22</td>\n",
       "    </tr>\n",
       "    <tr>\n",
       "        <td>23</td>\n",
       "    </tr>\n",
       "</table>"
      ],
      "text/plain": [
       "[(20,), (21,), (22,), (23,)]"
      ]
     },
     "execution_count": 16,
     "metadata": {},
     "output_type": "execute_result"
    }
   ],
   "source": [
    "%%sql\n",
    "SELECT p.pid\n",
    "FROM Suppliers s, Parts p, Catalog c\n",
    "WHERE p.pid = c.pid AND s.sid = c.sid\n",
    "GROUP BY p.pid\n",
    "HAVING COUNT(s.sid) > 1;"
   ]
  },
  {
   "cell_type": "markdown",
   "metadata": {},
   "source": [
    "11.Find the pids of the most expensive parts supplied by suppliers named Yosemite Sham."
   ]
  },
  {
   "cell_type": "code",
   "execution_count": 17,
   "metadata": {
    "collapsed": false
   },
   "outputs": [
    {
     "name": "stdout",
     "output_type": "stream",
     "text": [
      "Done.\n"
     ]
    },
    {
     "data": {
      "text/html": [
       "<table>\n",
       "    <tr>\n",
       "        <th>pid</th>\n",
       "    </tr>\n",
       "    <tr>\n",
       "        <td>23</td>\n",
       "    </tr>\n",
       "</table>"
      ],
      "text/plain": [
       "[(23,)]"
      ]
     },
     "execution_count": 17,
     "metadata": {},
     "output_type": "execute_result"
    }
   ],
   "source": [
    "%%sql\n",
    "SELECT p.pid\n",
    "FROM Suppliers s, Parts p, Catalog c\n",
    "WHERE s.sid = c.sid AND p.pid = c.pid AND s.sname = \"Yosemite Sham\"\n",
    "AND c.cost = (SELECT MAX(c1.cost)\n",
    "             FROM Catalog c1\n",
    "             WHERE c1.pid=p.pid);"
   ]
  },
  {
   "cell_type": "code",
   "execution_count": null,
   "metadata": {
    "collapsed": true
   },
   "outputs": [],
   "source": []
  }
 ],
 "metadata": {
  "kernelspec": {
   "display_name": "Python 2",
   "language": "python",
   "name": "python2"
  },
  "language_info": {
   "codemirror_mode": {
    "name": "ipython",
    "version": 2
   },
   "file_extension": ".py",
   "mimetype": "text/x-python",
   "name": "python",
   "nbconvert_exporter": "python",
   "pygments_lexer": "ipython2",
   "version": "2.7.13"
  }
 },
 "nbformat": 4,
 "nbformat_minor": 2
}
